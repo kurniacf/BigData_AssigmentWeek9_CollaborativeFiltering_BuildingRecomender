{
  "nbformat": 4,
  "nbformat_minor": 0,
  "metadata": {
    "colab": {
      "provenance": [],
      "authorship_tag": "ABX9TyO/UzkZk/+6HTePMgl2nwoT",
      "include_colab_link": true
    },
    "kernelspec": {
      "name": "python3",
      "display_name": "Python 3"
    },
    "language_info": {
      "name": "python"
    }
  },
  "cells": [
    {
      "cell_type": "markdown",
      "metadata": {
        "id": "view-in-github",
        "colab_type": "text"
      },
      "source": [
        "<a href=\"https://colab.research.google.com/github/kurniacf/BigData_AssigmentWeek9_CollaborativeFiltering_BuildingRecomender/blob/master/Collaborative_Filtering_5025201073_Kurnia_Cahya_Febryanto.ipynb\" target=\"_parent\"><img src=\"https://colab.research.google.com/assets/colab-badge.svg\" alt=\"Open In Colab\"/></a>"
      ]
    },
    {
      "cell_type": "markdown",
      "source": [
        "# BIG DATA ASSIGNMENT WEEK 09\n",
        "# Filtering Collaborative\n",
        "\n",
        "- Name: Kurnia Cahya Febryanto\n",
        "- Student ID: 5025201073\n",
        "- Class: Big Data A\n",
        "- Lecturer: Abdul Munif, S.Kom., M.Sc."
      ],
      "metadata": {
        "id": "81l_y9U2iiTb"
      }
    },
    {
      "cell_type": "markdown",
      "source": [
        "## Install & Init"
      ],
      "metadata": {
        "id": "iKqbSq8_ceS5"
      }
    },
    {
      "cell_type": "code",
      "source": [
        "!pip install pyspark"
      ],
      "metadata": {
        "colab": {
          "base_uri": "https://localhost:8080/"
        },
        "id": "Y63dutnIWvFT",
        "outputId": "2e2974cb-ad54-47f4-9958-6c868f21fd81"
      },
      "execution_count": 42,
      "outputs": [
        {
          "output_type": "stream",
          "name": "stdout",
          "text": [
            "Looking in indexes: https://pypi.org/simple, https://us-python.pkg.dev/colab-wheels/public/simple/\n",
            "Requirement already satisfied: pyspark in /usr/local/lib/python3.9/dist-packages (3.3.2)\n",
            "Requirement already satisfied: py4j==0.10.9.5 in /usr/local/lib/python3.9/dist-packages (from pyspark) (0.10.9.5)\n"
          ]
        }
      ]
    },
    {
      "cell_type": "code",
      "execution_count": 29,
      "metadata": {
        "id": "4T1IN4pfdUp0"
      },
      "outputs": [],
      "source": [
        "from pyspark.ml.evaluation import RegressionEvaluator\n",
        "from pyspark.ml.recommendation import ALS\n",
        "from pyspark.sql import Row, SparkSession"
      ]
    },
    {
      "cell_type": "code",
      "source": [
        "# SparkSession Initialization\n",
        "spark = SparkSession.builder \\\n",
        "    .master(\"local\") \\\n",
        "    .appName(\"MovieLens\") \\\n",
        "    .getOrCreate()"
      ],
      "metadata": {
        "id": "1vCpOdtCXQwq"
      },
      "execution_count": 30,
      "outputs": []
    },
    {
      "cell_type": "markdown",
      "source": [
        "## Read and Convert Data"
      ],
      "metadata": {
        "id": "-MSWl2Wjcj4D"
      }
    },
    {
      "cell_type": "code",
      "source": [
        "# Read data from a text file and separate elements of each line\n",
        "lines = spark.read.text(\"./sample_data/sample_movielens_ratings.txt\").rdd\n",
        "parts = lines.map(lambda row: row.value.split(\"::\"))"
      ],
      "metadata": {
        "id": "1igSSb-gXdU0"
      },
      "execution_count": 31,
      "outputs": []
    },
    {
      "cell_type": "code",
      "source": [
        "# Convert data into a DataFrame with userId, movieId, rating, and timestamp columns\n",
        "ratingsRDD = parts.map(lambda p: Row(userId=int(p[0]), movieId=int(p[1]), rating=float(p[2]), timestamp=int(p[3])))\n",
        "ratings = spark.createDataFrame(ratingsRDD)\n",
        "\n",
        "# Split the data into training (80%) and testing (20%) sets\n",
        "(training, test) = ratings.randomSplit([0.8, 0.2])"
      ],
      "metadata": {
        "id": "Bs_jVl73Xb_3"
      },
      "execution_count": 32,
      "outputs": []
    },
    {
      "cell_type": "markdown",
      "source": [
        "## Build Recomendation model using ALS "
      ],
      "metadata": {
        "id": "14sW2YMvctzT"
      }
    },
    {
      "cell_type": "code",
      "source": [
        "# Build the recommendation model using ALS on the training data\n",
        "# Note we set cold start strategy to 'drop' to ensure we don't get NaN evaluation metrics\n",
        "als = ALS(maxIter=5, regParam=0.01, userCol=\"userId\", itemCol=\"movieId\", ratingCol=\"rating\", coldStartStrategy=\"drop\")\n",
        "model = als.fit(training)"
      ],
      "metadata": {
        "id": "Wu3FocZHbopM"
      },
      "execution_count": 33,
      "outputs": []
    },
    {
      "cell_type": "code",
      "source": [
        "# Evaluate the model by computing the RMSE on the test data\n",
        "predictions = model.transform(test)\n",
        "evaluator = RegressionEvaluator(metricName=\"rmse\", labelCol=\"rating\",\n",
        "                                predictionCol=\"prediction\")\n",
        "rmse = evaluator.evaluate(predictions)\n",
        "print(\"Root-mean-square error = \" + str(rmse))"
      ],
      "metadata": {
        "colab": {
          "base_uri": "https://localhost:8080/"
        },
        "id": "ATbeQA3XcBtS",
        "outputId": "0fc00f9f-5e0e-41be-e8da-ec2f9cf866f1"
      },
      "execution_count": 34,
      "outputs": [
        {
          "output_type": "stream",
          "name": "stdout",
          "text": [
            "Root-mean-square error = 1.67731508609672\n"
          ]
        }
      ]
    },
    {
      "cell_type": "markdown",
      "source": [
        "## Generate Movie Recomendation"
      ],
      "metadata": {
        "id": "93J783Q2cz5a"
      }
    },
    {
      "cell_type": "code",
      "source": [
        "# Generate top 10 movie recommendations for each user\n",
        "userRecs = model.recommendForAllUsers(10)\n",
        "# Generate top 10 user recommendations for each movie\n",
        "movieRecs = model.recommendForAllItems(10)"
      ],
      "metadata": {
        "id": "d1n3WfGrcILp"
      },
      "execution_count": 35,
      "outputs": []
    },
    {
      "cell_type": "code",
      "source": [
        "# Generate top 10 movie recommendations for a specified set of users\n",
        "users = ratings.select(als.getUserCol()).distinct().limit(3)\n",
        "userSubsetRecs = model.recommendForUserSubset(users, 10)\n",
        "# Generate top 10 user recommendations for a specified set of movies\n",
        "movies = ratings.select(als.getItemCol()).distinct().limit(3)\n",
        "movieSubSetRecs = model.recommendForItemSubset(movies, 10)"
      ],
      "metadata": {
        "id": "COCwid-EcJOO"
      },
      "execution_count": 36,
      "outputs": []
    },
    {
      "cell_type": "code",
      "source": [
        "als = ALS(maxIter=5, regParam=0.01, implicitPrefs=True,\n",
        "          userCol=\"userId\", itemCol=\"movieId\", ratingCol=\"rating\")"
      ],
      "metadata": {
        "id": "g6YTsy76cM4y"
      },
      "execution_count": 37,
      "outputs": []
    },
    {
      "cell_type": "markdown",
      "source": [
        "### Print Result and Show Ouput"
      ],
      "metadata": {
        "id": "fYvJPNDkcYpe"
      }
    },
    {
      "cell_type": "code",
      "source": [
        "# Print the top 10 movie recommendations for each user\n",
        "print(\"Top 10 movie recommendations for each user:\")\n",
        "userRecs.show(truncate=False)"
      ],
      "metadata": {
        "colab": {
          "base_uri": "https://localhost:8080/"
        },
        "id": "rpkGlF61c9I8",
        "outputId": "59bcdcbd-5934-40dd-a3df-3153379e39f2"
      },
      "execution_count": 38,
      "outputs": [
        {
          "output_type": "stream",
          "name": "stdout",
          "text": [
            "Top 10 movie recommendations for each user:\n",
            "+------+-------------------------------------------------------------------------------------------------------------------------------------------------------------------------+\n",
            "|userId|recommendations                                                                                                                                                          |\n",
            "+------+-------------------------------------------------------------------------------------------------------------------------------------------------------------------------+\n",
            "|20    |[{22, 4.5160255}, {94, 4.0931993}, {75, 3.964409}, {77, 3.870597}, {28, 3.4966948}, {47, 3.3421474}, {51, 3.1723955}, {90, 3.1660483}, {53, 3.0790522}, {52, 2.8231473}] |\n",
            "|10    |[{87, 4.6298594}, {2, 3.9859674}, {27, 3.9471905}, {41, 3.7677686}, {48, 3.7607305}, {40, 3.734066}, {70, 3.6255636}, {32, 3.3321154}, {49, 3.2620907}, {42, 3.1131434}] |\n",
            "|0     |[{92, 2.7471068}, {53, 2.6669827}, {52, 2.4254014}, {43, 2.2903087}, {85, 2.1998425}, {90, 2.1290865}, {8, 2.071977}, {58, 1.9880792}, {76, 1.9324825}, {72, 1.9054083}] |\n",
            "|1     |[{22, 5.829069}, {53, 5.3303685}, {18, 4.3794403}, {51, 3.872174}, {80, 3.805863}, {1, 3.5463042}, {68, 3.3760605}, {79, 3.2748492}, {90, 3.2056544}, {60, 3.178946}]    |\n",
            "|21    |[{53, 4.958086}, {2, 3.9735477}, {74, 3.7590854}, {52, 3.4161546}, {49, 3.3697927}, {90, 3.170366}, {85, 3.0465167}, {43, 3.010621}, {58, 2.970337}, {5, 2.8469908}]     |\n",
            "|11    |[{51, 6.0265746}, {27, 5.1105323}, {23, 5.1095715}, {30, 4.976629}, {79, 4.821548}, {48, 4.7059927}, {74, 4.2180657}, {13, 4.12597}, {32, 4.0569186}, {38, 3.9701166}]   |\n",
            "|12    |[{46, 5.380222}, {55, 5.0792933}, {32, 5.04335}, {35, 5.0418673}, {17, 4.910829}, {62, 4.7983074}, {64, 4.591119}, {20, 4.319873}, {16, 4.0406885}, {68, 3.9701736}]     |\n",
            "|22    |[{75, 5.095452}, {79, 5.0587463}, {30, 4.962887}, {74, 4.948865}, {22, 4.672611}, {51, 4.6461587}, {68, 4.263046}, {98, 4.0720963}, {25, 4.050767}, {32, 3.9147482}]     |\n",
            "|2     |[{8, 5.109447}, {83, 5.045565}, {93, 5.002409}, {39, 4.7965097}, {25, 4.607402}, {37, 4.3233757}, {92, 4.0681095}, {89, 3.9755526}, {34, 3.8919828}, {40, 3.6265147}]    |\n",
            "|13    |[{93, 3.808626}, {62, 3.4893138}, {53, 2.9397023}, {74, 2.9170976}, {72, 2.915942}, {92, 2.8685899}, {12, 2.8130887}, {83, 2.7921932}, {39, 2.6589367}, {25, 2.62903}]   |\n",
            "|3     |[{51, 4.7141423}, {18, 4.296685}, {53, 3.9752998}, {80, 3.9408588}, {88, 3.8687112}, {22, 3.6837804}, {90, 3.656677}, {49, 3.6392963}, {2, 3.5282798}, {28, 3.3159266}]  |\n",
            "|23    |[{46, 6.5041275}, {32, 5.294696}, {90, 5.220727}, {48, 5.1636124}, {55, 4.9498115}, {49, 4.826389}, {65, 4.7112474}, {68, 4.357867}, {94, 4.3255515}, {17, 4.318701}]    |\n",
            "|4     |[{25, 4.2894816}, {41, 3.9241927}, {29, 3.8975506}, {62, 3.6947947}, {70, 3.5138328}, {40, 3.057611}, {87, 2.9901538}, {63, 2.9127133}, {27, 2.8481486}, {60, 2.8262448}]|\n",
            "|24    |[{69, 4.989827}, {52, 4.909795}, {55, 4.611457}, {77, 4.002795}, {28, 3.9351633}, {63, 3.9332905}, {76, 3.7991307}, {85, 3.1554585}, {44, 3.0467763}, {43, 2.9806721}]   |\n",
            "|14    |[{63, 5.0990014}, {52, 4.981363}, {29, 4.7538977}, {76, 4.7441783}, {85, 4.379937}, {62, 3.9036632}, {96, 3.7920582}, {72, 3.6584454}, {53, 3.1226804}, {47, 3.1225338}] |\n",
            "|5     |[{46, 4.6964593}, {55, 4.685409}, {90, 3.8859918}, {23, 3.7880025}, {17, 3.4609609}, {94, 3.4607232}, {49, 3.403819}, {64, 3.3761466}, {32, 3.2022069}, {20, 3.1627107}] |\n",
            "|15    |[{46, 4.8627286}, {55, 3.9155338}, {1, 3.8263426}, {64, 3.1010664}, {26, 2.9125147}, {68, 2.7328103}, {88, 2.5882227}, {49, 2.5771577}, {10, 2.5624628}, {92, 2.5336392}]|\n",
            "|25    |[{88, 4.7728047}, {35, 3.7531474}, {33, 3.734221}, {55, 3.3491185}, {62, 3.34028}, {71, 3.2663677}, {87, 3.169714}, {83, 3.1509337}, {49, 3.1038647}, {16, 3.0482657}]   |\n",
            "|26    |[{53, 7.2609215}, {18, 6.837916}, {51, 6.7590694}, {74, 5.980879}, {79, 5.9293995}, {90, 5.489329}, {30, 5.451606}, {80, 5.241762}, {38, 5.0884852}, {22, 5.0597115}]    |\n",
            "|6     |[{25, 4.5608644}, {29, 4.3845115}, {41, 3.9582524}, {43, 3.8181818}, {40, 3.8084114}, {70, 3.6916184}, {58, 3.4723895}, {87, 3.2228706}, {2, 3.1484659}, {52, 3.133064}] |\n",
            "+------+-------------------------------------------------------------------------------------------------------------------------------------------------------------------------+\n",
            "only showing top 20 rows\n",
            "\n"
          ]
        }
      ]
    },
    {
      "cell_type": "code",
      "source": [
        "# Print the top 10 user recommendations for each movie\n",
        "print(\"Top 10 user recommendations for each movie:\")\n",
        "movieRecs.show(truncate=False)"
      ],
      "metadata": {
        "colab": {
          "base_uri": "https://localhost:8080/"
        },
        "id": "ZS5ZRqmsdBPn",
        "outputId": "af2b14af-cc97-48bc-caec-b3d87b6f610b"
      },
      "execution_count": 39,
      "outputs": [
        {
          "output_type": "stream",
          "name": "stdout",
          "text": [
            "Top 10 user recommendations for each movie:\n",
            "+-------+-----------------------------------------------------------------------------------------------------------------------------------------------------------------------+\n",
            "|movieId|recommendations                                                                                                                                                        |\n",
            "+-------+-----------------------------------------------------------------------------------------------------------------------------------------------------------------------+\n",
            "|20     |[{17, 4.5995255}, {12, 4.319873}, {23, 4.1532445}, {16, 3.429555}, {19, 3.3065374}, {5, 3.1627107}, {9, 2.8975656}, {29, 2.5077653}, {22, 2.497104}, {15, 2.210217}]   |\n",
            "|40     |[{6, 3.8084114}, {10, 3.734066}, {2, 3.6265147}, {4, 3.057611}, {11, 2.6715837}, {21, 2.2000585}, {8, 2.1389294}, {7, 1.9825605}, {3, 1.9740173}, {13, 1.8978541}]     |\n",
            "|10     |[{23, 4.0155606}, {17, 3.6326773}, {9, 3.3217201}, {12, 3.2784476}, {16, 2.8585858}, {5, 2.8169398}, {29, 2.703566}, {15, 2.5624628}, {28, 2.4888606}, {19, 2.1861036}]|\n",
            "|50     |[{11, 3.9049335}, {12, 3.8403368}, {22, 3.616304}, {23, 3.4095712}, {29, 3.194676}, {5, 2.727861}, {17, 2.4845154}, {19, 2.1181655}, {27, 2.1039016}, {26, 2.0983405}] |\n",
            "|80     |[{26, 5.241762}, {3, 3.9408588}, {1, 3.805863}, {11, 3.155137}, {22, 3.027792}, {23, 2.8782477}, {20, 2.774813}, {27, 2.6390157}, {17, 2.0413709}, {5, 1.8332665}]     |\n",
            "|70     |[{6, 3.6916184}, {10, 3.6255636}, {4, 3.5138328}, {9, 3.0070033}, {16, 3.004788}, {22, 2.842634}, {7, 2.7811544}, {8, 2.6805325}, {24, 2.6049333}, {23, 2.5236564}]    |\n",
            "|60     |[{1, 3.178946}, {26, 3.1284392}, {3, 3.0707178}, {22, 3.0010667}, {11, 2.9991522}, {8, 2.8896275}, {4, 2.8262448}, {10, 2.7156959}, {14, 1.5971067}, {6, 1.3473667}]   |\n",
            "|90     |[{26, 5.489329}, {23, 5.220727}, {16, 5.121788}, {17, 4.7871833}, {19, 3.9217904}, {11, 3.9063299}, {5, 3.8859918}, {3, 3.656677}, {9, 3.4048655}, {1, 3.2056544}]     |\n",
            "|30     |[{26, 5.451606}, {11, 4.976629}, {22, 4.962887}, {23, 3.9920218}, {19, 3.0925796}, {2, 2.457592}, {28, 2.3698425}, {1, 2.2833457}, {17, 2.2446887}, {20, 2.210432}]    |\n",
            "|0      |[{28, 3.0210254}, {10, 2.6206148}, {4, 2.2316444}, {25, 2.1502912}, {9, 1.6740915}, {12, 1.6557614}, {23, 1.5887555}, {8, 1.3173044}, {29, 1.2857994}, {13, 1.2407391}]|\n",
            "|31     |[{8, 3.0840087}, {14, 2.6664376}, {7, 2.2961216}, {9, 2.1422572}, {25, 1.7940695}, {10, 1.7808943}, {28, 1.6544251}, {4, 1.5475658}, {3, 1.547563}, {13, 1.363154}]    |\n",
            "|81     |[{28, 4.871117}, {11, 3.6731715}, {2, 3.622647}, {26, 3.4132802}, {18, 2.663715}, {29, 2.5778842}, {13, 2.3921163}, {27, 2.372337}, {25, 2.1898217}, {23, 2.1020288}]  |\n",
            "|91     |[{12, 3.23201}, {17, 3.0567558}, {25, 3.0351193}, {28, 2.70963}, {5, 2.0233307}, {15, 1.9994131}, {23, 1.9739832}, {9, 1.8190484}, {13, 1.4940002}, {29, 1.2462972}]   |\n",
            "|1      |[{15, 3.8263426}, {17, 3.674724}, {1, 3.5463042}, {25, 2.9636507}, {16, 2.818493}, {21, 2.7324517}, {12, 2.0350966}, {6, 1.9907284}, {23, 1.9839742}, {13, 1.8566865}] |\n",
            "|41     |[{6, 3.9582524}, {4, 3.9241927}, {10, 3.7677686}, {22, 3.0912738}, {25, 2.8870914}, {2, 2.88374}, {8, 2.828294}, {13, 2.6224992}, {7, 2.513356}, {1, 2.3171422}]       |\n",
            "|61     |[{16, 3.882374}, {1, 2.8088174}, {6, 2.5234003}, {24, 2.3562508}, {21, 2.2961116}, {8, 1.9739056}, {3, 1.8550059}, {14, 1.8301531}, {15, 1.6351113}, {0, 1.6073196}]   |\n",
            "|51     |[{26, 6.7590694}, {11, 6.0265746}, {3, 4.7141423}, {22, 4.6461587}, {27, 4.0651426}, {1, 3.872174}, {23, 3.7628803}, {20, 3.1723955}, {10, 2.66184}, {2, 2.5572662}]   |\n",
            "|21     |[{26, 2.9747815}, {1, 2.9671795}, {3, 2.5997152}, {17, 2.165171}, {20, 2.1269047}, {23, 1.9482356}, {16, 1.8303871}, {24, 1.790306}, {5, 1.5680789}, {22, 1.5175108}]  |\n",
            "|11     |[{18, 3.8050423}, {2, 3.1779141}, {7, 2.2060308}, {20, 2.110227}, {25, 2.0093598}, {24, 1.9671646}, {23, 1.9234891}, {27, 1.8292171}, {16, 1.6487633}, {10, 1.5961207}]|\n",
            "|71     |[{25, 3.2663677}, {2, 2.912763}, {28, 2.6204746}, {15, 2.2710302}, {27, 2.2115693}, {13, 1.8595047}, {4, 1.7819701}, {6, 1.7365437}, {23, 1.5769156}, {1, 1.4823247}]  |\n",
            "+-------+-----------------------------------------------------------------------------------------------------------------------------------------------------------------------+\n",
            "only showing top 20 rows\n",
            "\n"
          ]
        }
      ]
    },
    {
      "cell_type": "code",
      "source": [
        "# Print the top 10 movie recommendations for a specified set of users\n",
        "print(\"Top 10 movie recommendations for a specified set of users:\")\n",
        "userSubsetRecs.show(truncate=False)"
      ],
      "metadata": {
        "colab": {
          "base_uri": "https://localhost:8080/"
        },
        "id": "e00qJU_5dDkW",
        "outputId": "ccf23319-0b7a-4840-f34c-22bb10dbc8d9"
      },
      "execution_count": 40,
      "outputs": [
        {
          "output_type": "stream",
          "name": "stdout",
          "text": [
            "Top 10 movie recommendations for a specified set of users:\n",
            "+------+------------------------------------------------------------------------------------------------------------------------------------------------------------------------+\n",
            "|userId|recommendations                                                                                                                                                         |\n",
            "+------+------------------------------------------------------------------------------------------------------------------------------------------------------------------------+\n",
            "|26    |[{53, 7.2609215}, {18, 6.837916}, {51, 6.7590694}, {74, 5.980879}, {79, 5.9293995}, {90, 5.489329}, {30, 5.451606}, {80, 5.241762}, {38, 5.0884852}, {22, 5.0597115}]   |\n",
            "|19    |[{90, 3.9217904}, {32, 3.906753}, {75, 3.8865442}, {98, 3.7077284}, {94, 3.5674012}, {54, 3.424247}, {20, 3.3065374}, {17, 3.1672063}, {30, 3.0925796}, {74, 2.8209424}]|\n",
            "|29    |[{46, 4.950326}, {23, 4.0825114}, {32, 3.9048412}, {55, 3.7234724}, {49, 3.4560719}, {48, 3.4461477}, {13, 3.204862}, {50, 3.194676}, {90, 3.1935806}, {17, 2.8924022}] |\n",
            "+------+------------------------------------------------------------------------------------------------------------------------------------------------------------------------+\n",
            "\n"
          ]
        }
      ]
    },
    {
      "cell_type": "code",
      "source": [
        "# Print the top 10 user recommendations for a specified set of movies\n",
        "print(\"Top 10 user recommendations for a specified set of movies:\")\n",
        "movieSubSetRecs.show(truncate=False)"
      ],
      "metadata": {
        "colab": {
          "base_uri": "https://localhost:8080/"
        },
        "id": "CncNunbmdXXF",
        "outputId": "b6297ee4-0961-4642-cdb8-67dc94742b0e"
      },
      "execution_count": 41,
      "outputs": [
        {
          "output_type": "stream",
          "name": "stdout",
          "text": [
            "Top 10 user recommendations for a specified set of movies:\n",
            "+-------+----------------------------------------------------------------------------------------------------------------------------------------------------------------------+\n",
            "|movieId|recommendations                                                                                                                                                       |\n",
            "+-------+----------------------------------------------------------------------------------------------------------------------------------------------------------------------+\n",
            "|65     |[{23, 4.7112474}, {10, 2.379873}, {15, 2.1989417}, {29, 2.1959696}, {11, 2.155614}, {9, 2.113654}, {5, 2.0912316}, {3, 1.976464}, {17, 1.8776916}, {25, 1.8074851}]   |\n",
            "|26     |[{17, 2.9240875}, {15, 2.9125147}, {12, 2.409271}, {23, 2.2540622}, {25, 2.2260208}, {1, 2.1222558}, {16, 2.0363817}, {24, 2.0110219}, {9, 1.5273601}, {5, 1.4693817}]|\n",
            "|29     |[{8, 5.0909505}, {14, 4.7538977}, {6, 4.3845115}, {7, 4.136162}, {4, 3.8975506}, {16, 3.6928935}, {22, 3.3479452}, {9, 2.996451}, {2, 2.8958757}, {19, 2.7212577}]    |\n",
            "+-------+----------------------------------------------------------------------------------------------------------------------------------------------------------------------+\n",
            "\n"
          ]
        }
      ]
    },
    {
      "cell_type": "code",
      "source": [
        "# Function to print recommendations in a more readable format\n",
        "def print_recommendations(df, entityType):\n",
        "    for row in df.collect():\n",
        "        entity_id = row[0]\n",
        "        recommendations = row[1]\n",
        "        recs = [f\"{rec[0]} (score: {rec[1]:.2f})\" for rec in recommendations]\n",
        "        print(f\"Top 10 {entityType} recommendations for {entityType[:-1]} ID {entity_id}:\")\n",
        "        print(\", \".join(recs))\n",
        "        print()\n",
        "\n",
        "# Print user recommendations\n",
        "print_recommendations(userRecs, \"movie\")\n",
        "\n",
        "# Print movie recommendations\n",
        "print_recommendations(movieRecs, \"user\")"
      ],
      "metadata": {
        "colab": {
          "base_uri": "https://localhost:8080/"
        },
        "id": "Bq-kGjwS2qnX",
        "outputId": "bd3c1fa0-61b9-47de-bd12-5294240377b0"
      },
      "execution_count": 43,
      "outputs": [
        {
          "output_type": "stream",
          "name": "stdout",
          "text": [
            "Top 10 movie recommendations for movi ID 20:\n",
            "22 (score: 4.52), 94 (score: 4.09), 75 (score: 3.96), 77 (score: 3.87), 28 (score: 3.50), 47 (score: 3.34), 51 (score: 3.17), 90 (score: 3.17), 53 (score: 3.08), 52 (score: 2.82)\n",
            "\n",
            "Top 10 movie recommendations for movi ID 10:\n",
            "87 (score: 4.63), 2 (score: 3.99), 27 (score: 3.95), 41 (score: 3.77), 48 (score: 3.76), 40 (score: 3.73), 70 (score: 3.63), 32 (score: 3.33), 49 (score: 3.26), 42 (score: 3.11)\n",
            "\n",
            "Top 10 movie recommendations for movi ID 0:\n",
            "92 (score: 2.75), 53 (score: 2.67), 52 (score: 2.43), 43 (score: 2.29), 85 (score: 2.20), 90 (score: 2.13), 8 (score: 2.07), 58 (score: 1.99), 76 (score: 1.93), 72 (score: 1.91)\n",
            "\n",
            "Top 10 movie recommendations for movi ID 1:\n",
            "22 (score: 5.83), 53 (score: 5.33), 18 (score: 4.38), 51 (score: 3.87), 80 (score: 3.81), 1 (score: 3.55), 68 (score: 3.38), 79 (score: 3.27), 90 (score: 3.21), 60 (score: 3.18)\n",
            "\n",
            "Top 10 movie recommendations for movi ID 21:\n",
            "53 (score: 4.96), 2 (score: 3.97), 74 (score: 3.76), 52 (score: 3.42), 49 (score: 3.37), 90 (score: 3.17), 85 (score: 3.05), 43 (score: 3.01), 58 (score: 2.97), 5 (score: 2.85)\n",
            "\n",
            "Top 10 movie recommendations for movi ID 11:\n",
            "51 (score: 6.03), 27 (score: 5.11), 23 (score: 5.11), 30 (score: 4.98), 79 (score: 4.82), 48 (score: 4.71), 74 (score: 4.22), 13 (score: 4.13), 32 (score: 4.06), 38 (score: 3.97)\n",
            "\n",
            "Top 10 movie recommendations for movi ID 12:\n",
            "46 (score: 5.38), 55 (score: 5.08), 32 (score: 5.04), 35 (score: 5.04), 17 (score: 4.91), 62 (score: 4.80), 64 (score: 4.59), 20 (score: 4.32), 16 (score: 4.04), 68 (score: 3.97)\n",
            "\n",
            "Top 10 movie recommendations for movi ID 22:\n",
            "75 (score: 5.10), 79 (score: 5.06), 30 (score: 4.96), 74 (score: 4.95), 22 (score: 4.67), 51 (score: 4.65), 68 (score: 4.26), 98 (score: 4.07), 25 (score: 4.05), 32 (score: 3.91)\n",
            "\n",
            "Top 10 movie recommendations for movi ID 2:\n",
            "8 (score: 5.11), 83 (score: 5.05), 93 (score: 5.00), 39 (score: 4.80), 25 (score: 4.61), 37 (score: 4.32), 92 (score: 4.07), 89 (score: 3.98), 34 (score: 3.89), 40 (score: 3.63)\n",
            "\n",
            "Top 10 movie recommendations for movi ID 13:\n",
            "93 (score: 3.81), 62 (score: 3.49), 53 (score: 2.94), 74 (score: 2.92), 72 (score: 2.92), 92 (score: 2.87), 12 (score: 2.81), 83 (score: 2.79), 39 (score: 2.66), 25 (score: 2.63)\n",
            "\n",
            "Top 10 movie recommendations for movi ID 3:\n",
            "51 (score: 4.71), 18 (score: 4.30), 53 (score: 3.98), 80 (score: 3.94), 88 (score: 3.87), 22 (score: 3.68), 90 (score: 3.66), 49 (score: 3.64), 2 (score: 3.53), 28 (score: 3.32)\n",
            "\n",
            "Top 10 movie recommendations for movi ID 23:\n",
            "46 (score: 6.50), 32 (score: 5.29), 90 (score: 5.22), 48 (score: 5.16), 55 (score: 4.95), 49 (score: 4.83), 65 (score: 4.71), 68 (score: 4.36), 94 (score: 4.33), 17 (score: 4.32)\n",
            "\n",
            "Top 10 movie recommendations for movi ID 4:\n",
            "25 (score: 4.29), 41 (score: 3.92), 29 (score: 3.90), 62 (score: 3.69), 70 (score: 3.51), 40 (score: 3.06), 87 (score: 2.99), 63 (score: 2.91), 27 (score: 2.85), 60 (score: 2.83)\n",
            "\n",
            "Top 10 movie recommendations for movi ID 24:\n",
            "69 (score: 4.99), 52 (score: 4.91), 55 (score: 4.61), 77 (score: 4.00), 28 (score: 3.94), 63 (score: 3.93), 76 (score: 3.80), 85 (score: 3.16), 44 (score: 3.05), 43 (score: 2.98)\n",
            "\n",
            "Top 10 movie recommendations for movi ID 14:\n",
            "63 (score: 5.10), 52 (score: 4.98), 29 (score: 4.75), 76 (score: 4.74), 85 (score: 4.38), 62 (score: 3.90), 96 (score: 3.79), 72 (score: 3.66), 53 (score: 3.12), 47 (score: 3.12)\n",
            "\n",
            "Top 10 movie recommendations for movi ID 5:\n",
            "46 (score: 4.70), 55 (score: 4.69), 90 (score: 3.89), 23 (score: 3.79), 17 (score: 3.46), 94 (score: 3.46), 49 (score: 3.40), 64 (score: 3.38), 32 (score: 3.20), 20 (score: 3.16)\n",
            "\n",
            "Top 10 movie recommendations for movi ID 15:\n",
            "46 (score: 4.86), 55 (score: 3.92), 1 (score: 3.83), 64 (score: 3.10), 26 (score: 2.91), 68 (score: 2.73), 88 (score: 2.59), 49 (score: 2.58), 10 (score: 2.56), 92 (score: 2.53)\n",
            "\n",
            "Top 10 movie recommendations for movi ID 25:\n",
            "88 (score: 4.77), 35 (score: 3.75), 33 (score: 3.73), 55 (score: 3.35), 62 (score: 3.34), 71 (score: 3.27), 87 (score: 3.17), 83 (score: 3.15), 49 (score: 3.10), 16 (score: 3.05)\n",
            "\n",
            "Top 10 movie recommendations for movi ID 26:\n",
            "53 (score: 7.26), 18 (score: 6.84), 51 (score: 6.76), 74 (score: 5.98), 79 (score: 5.93), 90 (score: 5.49), 30 (score: 5.45), 80 (score: 5.24), 38 (score: 5.09), 22 (score: 5.06)\n",
            "\n",
            "Top 10 movie recommendations for movi ID 6:\n",
            "25 (score: 4.56), 29 (score: 4.38), 41 (score: 3.96), 43 (score: 3.82), 40 (score: 3.81), 70 (score: 3.69), 58 (score: 3.47), 87 (score: 3.22), 2 (score: 3.15), 52 (score: 3.13)\n",
            "\n",
            "Top 10 movie recommendations for movi ID 16:\n",
            "69 (score: 5.13), 90 (score: 5.12), 85 (score: 5.04), 43 (score: 4.46), 92 (score: 4.42), 54 (score: 4.18), 52 (score: 4.06), 61 (score: 3.88), 29 (score: 3.69), 20 (score: 3.43)\n",
            "\n",
            "Top 10 movie recommendations for movi ID 27:\n",
            "69 (score: 4.47), 51 (score: 4.07), 23 (score: 3.92), 8 (score: 3.81), 18 (score: 3.75), 88 (score: 3.28), 27 (score: 3.24), 33 (score: 3.08), 83 (score: 3.07), 4 (score: 2.90)\n",
            "\n",
            "Top 10 movie recommendations for movi ID 17:\n",
            "46 (score: 5.15), 17 (score: 4.84), 90 (score: 4.79), 55 (score: 4.78), 20 (score: 4.60), 94 (score: 4.58), 64 (score: 4.22), 68 (score: 4.08), 53 (score: 3.97), 7 (score: 3.93)\n",
            "\n",
            "Top 10 movie recommendations for movi ID 7:\n",
            "52 (score: 4.57), 29 (score: 4.14), 47 (score: 3.76), 85 (score: 3.72), 76 (score: 3.40), 87 (score: 3.22), 62 (score: 3.19), 63 (score: 3.17), 25 (score: 3.01), 72 (score: 2.83)\n",
            "\n",
            "Top 10 movie recommendations for movi ID 28:\n",
            "92 (score: 5.01), 81 (score: 4.87), 72 (score: 4.74), 74 (score: 4.66), 12 (score: 4.59), 93 (score: 4.45), 46 (score: 4.36), 16 (score: 4.09), 14 (score: 3.97), 49 (score: 3.96)\n",
            "\n",
            "Top 10 movie recommendations for movi ID 8:\n",
            "76 (score: 5.26), 52 (score: 5.11), 29 (score: 5.09), 53 (score: 4.78), 63 (score: 4.76), 85 (score: 4.64), 62 (score: 4.20), 2 (score: 3.98), 72 (score: 3.86), 47 (score: 3.65)\n",
            "\n",
            "Top 10 movie recommendations for movi ID 18:\n",
            "83 (score: 5.21), 52 (score: 5.15), 38 (score: 4.93), 28 (score: 4.73), 8 (score: 4.00), 89 (score: 3.89), 44 (score: 3.82), 11 (score: 3.81), 93 (score: 3.62), 34 (score: 3.55)\n",
            "\n",
            "Top 10 movie recommendations for movi ID 19:\n",
            "90 (score: 3.92), 32 (score: 3.91), 75 (score: 3.89), 98 (score: 3.71), 94 (score: 3.57), 54 (score: 3.42), 20 (score: 3.31), 17 (score: 3.17), 30 (score: 3.09), 74 (score: 2.82)\n",
            "\n",
            "Top 10 movie recommendations for movi ID 9:\n",
            "76 (score: 4.59), 49 (score: 4.44), 55 (score: 4.06), 46 (score: 4.03), 32 (score: 3.93), 87 (score: 3.91), 16 (score: 3.45), 85 (score: 3.42), 48 (score: 3.41), 90 (score: 3.40)\n",
            "\n",
            "Top 10 movie recommendations for movi ID 29:\n",
            "46 (score: 4.95), 23 (score: 4.08), 32 (score: 3.90), 55 (score: 3.72), 49 (score: 3.46), 48 (score: 3.45), 13 (score: 3.20), 50 (score: 3.19), 90 (score: 3.19), 17 (score: 2.89)\n",
            "\n",
            "Top 10 user recommendations for use ID 20:\n",
            "17 (score: 4.60), 12 (score: 4.32), 23 (score: 4.15), 16 (score: 3.43), 19 (score: 3.31), 5 (score: 3.16), 9 (score: 2.90), 29 (score: 2.51), 22 (score: 2.50), 15 (score: 2.21)\n",
            "\n",
            "Top 10 user recommendations for use ID 40:\n",
            "6 (score: 3.81), 10 (score: 3.73), 2 (score: 3.63), 4 (score: 3.06), 11 (score: 2.67), 21 (score: 2.20), 8 (score: 2.14), 7 (score: 1.98), 3 (score: 1.97), 13 (score: 1.90)\n",
            "\n",
            "Top 10 user recommendations for use ID 10:\n",
            "23 (score: 4.02), 17 (score: 3.63), 9 (score: 3.32), 12 (score: 3.28), 16 (score: 2.86), 5 (score: 2.82), 29 (score: 2.70), 15 (score: 2.56), 28 (score: 2.49), 19 (score: 2.19)\n",
            "\n",
            "Top 10 user recommendations for use ID 50:\n",
            "11 (score: 3.90), 12 (score: 3.84), 22 (score: 3.62), 23 (score: 3.41), 29 (score: 3.19), 5 (score: 2.73), 17 (score: 2.48), 19 (score: 2.12), 27 (score: 2.10), 26 (score: 2.10)\n",
            "\n",
            "Top 10 user recommendations for use ID 80:\n",
            "26 (score: 5.24), 3 (score: 3.94), 1 (score: 3.81), 11 (score: 3.16), 22 (score: 3.03), 23 (score: 2.88), 20 (score: 2.77), 27 (score: 2.64), 17 (score: 2.04), 5 (score: 1.83)\n",
            "\n",
            "Top 10 user recommendations for use ID 70:\n",
            "6 (score: 3.69), 10 (score: 3.63), 4 (score: 3.51), 9 (score: 3.01), 16 (score: 3.00), 22 (score: 2.84), 7 (score: 2.78), 8 (score: 2.68), 24 (score: 2.60), 23 (score: 2.52)\n",
            "\n",
            "Top 10 user recommendations for use ID 60:\n",
            "1 (score: 3.18), 26 (score: 3.13), 3 (score: 3.07), 22 (score: 3.00), 11 (score: 3.00), 8 (score: 2.89), 4 (score: 2.83), 10 (score: 2.72), 14 (score: 1.60), 6 (score: 1.35)\n",
            "\n",
            "Top 10 user recommendations for use ID 90:\n",
            "26 (score: 5.49), 23 (score: 5.22), 16 (score: 5.12), 17 (score: 4.79), 19 (score: 3.92), 11 (score: 3.91), 5 (score: 3.89), 3 (score: 3.66), 9 (score: 3.40), 1 (score: 3.21)\n",
            "\n",
            "Top 10 user recommendations for use ID 30:\n",
            "26 (score: 5.45), 11 (score: 4.98), 22 (score: 4.96), 23 (score: 3.99), 19 (score: 3.09), 2 (score: 2.46), 28 (score: 2.37), 1 (score: 2.28), 17 (score: 2.24), 20 (score: 2.21)\n",
            "\n",
            "Top 10 user recommendations for use ID 0:\n",
            "28 (score: 3.02), 10 (score: 2.62), 4 (score: 2.23), 25 (score: 2.15), 9 (score: 1.67), 12 (score: 1.66), 23 (score: 1.59), 8 (score: 1.32), 29 (score: 1.29), 13 (score: 1.24)\n",
            "\n",
            "Top 10 user recommendations for use ID 31:\n",
            "8 (score: 3.08), 14 (score: 2.67), 7 (score: 2.30), 9 (score: 2.14), 25 (score: 1.79), 10 (score: 1.78), 28 (score: 1.65), 4 (score: 1.55), 3 (score: 1.55), 13 (score: 1.36)\n",
            "\n",
            "Top 10 user recommendations for use ID 81:\n",
            "28 (score: 4.87), 11 (score: 3.67), 2 (score: 3.62), 26 (score: 3.41), 18 (score: 2.66), 29 (score: 2.58), 13 (score: 2.39), 27 (score: 2.37), 25 (score: 2.19), 23 (score: 2.10)\n",
            "\n",
            "Top 10 user recommendations for use ID 91:\n",
            "12 (score: 3.23), 17 (score: 3.06), 25 (score: 3.04), 28 (score: 2.71), 5 (score: 2.02), 15 (score: 2.00), 23 (score: 1.97), 9 (score: 1.82), 13 (score: 1.49), 29 (score: 1.25)\n",
            "\n",
            "Top 10 user recommendations for use ID 1:\n",
            "15 (score: 3.83), 17 (score: 3.67), 1 (score: 3.55), 25 (score: 2.96), 16 (score: 2.82), 21 (score: 2.73), 12 (score: 2.04), 6 (score: 1.99), 23 (score: 1.98), 13 (score: 1.86)\n",
            "\n",
            "Top 10 user recommendations for use ID 41:\n",
            "6 (score: 3.96), 4 (score: 3.92), 10 (score: 3.77), 22 (score: 3.09), 25 (score: 2.89), 2 (score: 2.88), 8 (score: 2.83), 13 (score: 2.62), 7 (score: 2.51), 1 (score: 2.32)\n",
            "\n",
            "Top 10 user recommendations for use ID 61:\n",
            "16 (score: 3.88), 1 (score: 2.81), 6 (score: 2.52), 24 (score: 2.36), 21 (score: 2.30), 8 (score: 1.97), 3 (score: 1.86), 14 (score: 1.83), 15 (score: 1.64), 0 (score: 1.61)\n",
            "\n",
            "Top 10 user recommendations for use ID 51:\n",
            "26 (score: 6.76), 11 (score: 6.03), 3 (score: 4.71), 22 (score: 4.65), 27 (score: 4.07), 1 (score: 3.87), 23 (score: 3.76), 20 (score: 3.17), 10 (score: 2.66), 2 (score: 2.56)\n",
            "\n",
            "Top 10 user recommendations for use ID 21:\n",
            "26 (score: 2.97), 1 (score: 2.97), 3 (score: 2.60), 17 (score: 2.17), 20 (score: 2.13), 23 (score: 1.95), 16 (score: 1.83), 24 (score: 1.79), 5 (score: 1.57), 22 (score: 1.52)\n",
            "\n",
            "Top 10 user recommendations for use ID 11:\n",
            "18 (score: 3.81), 2 (score: 3.18), 7 (score: 2.21), 20 (score: 2.11), 25 (score: 2.01), 24 (score: 1.97), 23 (score: 1.92), 27 (score: 1.83), 16 (score: 1.65), 10 (score: 1.60)\n",
            "\n",
            "Top 10 user recommendations for use ID 71:\n",
            "25 (score: 3.27), 2 (score: 2.91), 28 (score: 2.62), 15 (score: 2.27), 27 (score: 2.21), 13 (score: 1.86), 4 (score: 1.78), 6 (score: 1.74), 23 (score: 1.58), 1 (score: 1.48)\n",
            "\n",
            "Top 10 user recommendations for use ID 12:\n",
            "28 (score: 4.59), 2 (score: 3.09), 13 (score: 2.81), 25 (score: 2.60), 26 (score: 2.59), 18 (score: 2.40), 12 (score: 2.21), 17 (score: 1.91), 7 (score: 1.67), 14 (score: 1.61)\n",
            "\n",
            "Top 10 user recommendations for use ID 22:\n",
            "1 (score: 5.83), 26 (score: 5.06), 22 (score: 4.67), 20 (score: 4.52), 3 (score: 3.68), 17 (score: 3.55), 16 (score: 2.61), 19 (score: 2.54), 12 (score: 2.51), 23 (score: 2.47)\n",
            "\n",
            "Top 10 user recommendations for use ID 52:\n",
            "18 (score: 5.15), 8 (score: 5.11), 14 (score: 4.98), 24 (score: 4.91), 7 (score: 4.57), 16 (score: 4.06), 21 (score: 3.42), 9 (score: 3.16), 6 (score: 3.13), 1 (score: 3.07)\n",
            "\n",
            "Top 10 user recommendations for use ID 92:\n",
            "28 (score: 5.01), 16 (score: 4.42), 2 (score: 4.07), 26 (score: 3.29), 14 (score: 2.95), 22 (score: 2.90), 13 (score: 2.87), 6 (score: 2.79), 0 (score: 2.75), 15 (score: 2.53)\n",
            "\n",
            "Top 10 user recommendations for use ID 72:\n",
            "28 (score: 4.74), 26 (score: 4.17), 8 (score: 3.86), 14 (score: 3.66), 11 (score: 3.02), 13 (score: 2.92), 7 (score: 2.83), 9 (score: 2.46), 29 (score: 2.13), 6 (score: 2.12)\n",
            "\n",
            "Top 10 user recommendations for use ID 82:\n",
            "28 (score: 3.64), 26 (score: 2.13), 17 (score: 2.11), 12 (score: 2.01), 2 (score: 1.85), 29 (score: 1.80), 25 (score: 1.71), 13 (score: 1.68), 15 (score: 1.68), 5 (score: 1.67)\n",
            "\n",
            "Top 10 user recommendations for use ID 62:\n",
            "12 (score: 4.80), 8 (score: 4.20), 14 (score: 3.90), 22 (score: 3.81), 4 (score: 3.69), 13 (score: 3.49), 25 (score: 3.34), 7 (score: 3.19), 28 (score: 2.94), 17 (score: 2.65)\n",
            "\n",
            "Top 10 user recommendations for use ID 32:\n",
            "23 (score: 5.29), 12 (score: 5.04), 11 (score: 4.06), 9 (score: 3.93), 22 (score: 3.91), 19 (score: 3.91), 29 (score: 3.90), 17 (score: 3.54), 10 (score: 3.33), 5 (score: 3.20)\n",
            "\n",
            "Top 10 user recommendations for use ID 42:\n",
            "10 (score: 3.11), 25 (score: 2.32), 9 (score: 2.14), 4 (score: 2.14), 7 (score: 1.85), 23 (score: 1.75), 20 (score: 1.72), 3 (score: 1.69), 8 (score: 1.60), 6 (score: 1.57)\n",
            "\n",
            "Top 10 user recommendations for use ID 2:\n",
            "10 (score: 3.99), 8 (score: 3.98), 21 (score: 3.97), 3 (score: 3.53), 9 (score: 3.18), 6 (score: 3.15), 4 (score: 2.61), 7 (score: 2.07), 1 (score: 1.93), 20 (score: 1.90)\n",
            "\n",
            "Top 10 user recommendations for use ID 53:\n",
            "26 (score: 7.26), 1 (score: 5.33), 21 (score: 4.96), 8 (score: 4.78), 3 (score: 3.98), 17 (score: 3.97), 14 (score: 3.12), 20 (score: 3.08), 13 (score: 2.94), 16 (score: 2.76)\n",
            "\n",
            "Top 10 user recommendations for use ID 93:\n",
            "2 (score: 5.00), 28 (score: 4.45), 13 (score: 3.81), 18 (score: 3.62), 26 (score: 3.21), 14 (score: 2.77), 22 (score: 2.61), 7 (score: 2.57), 25 (score: 2.41), 27 (score: 2.07)\n",
            "\n",
            "Top 10 user recommendations for use ID 13:\n",
            "11 (score: 4.13), 23 (score: 3.85), 29 (score: 3.20), 26 (score: 2.98), 5 (score: 2.74), 9 (score: 2.70), 3 (score: 2.55), 28 (score: 2.05), 17 (score: 2.00), 10 (score: 1.99)\n",
            "\n",
            "Top 10 user recommendations for use ID 3:\n",
            "16 (score: 3.03), 14 (score: 2.63), 8 (score: 2.26), 11 (score: 2.04), 22 (score: 1.92), 6 (score: 1.79), 2 (score: 1.67), 19 (score: 1.63), 7 (score: 1.45), 26 (score: 1.37)\n",
            "\n",
            "Top 10 user recommendations for use ID 43:\n",
            "16 (score: 4.46), 6 (score: 3.82), 9 (score: 3.07), 8 (score: 3.01), 21 (score: 3.01), 24 (score: 2.98), 14 (score: 2.86), 0 (score: 2.29), 15 (score: 2.18), 4 (score: 2.17)\n",
            "\n",
            "Top 10 user recommendations for use ID 23:\n",
            "11 (score: 5.11), 26 (score: 4.93), 29 (score: 4.08), 27 (score: 3.92), 5 (score: 3.79), 23 (score: 3.64), 17 (score: 3.02), 28 (score: 2.98), 24 (score: 2.89), 12 (score: 2.84)\n",
            "\n",
            "Top 10 user recommendations for use ID 63:\n",
            "14 (score: 5.10), 8 (score: 4.76), 24 (score: 3.93), 7 (score: 3.17), 16 (score: 3.16), 6 (score: 3.13), 9 (score: 3.06), 4 (score: 2.91), 27 (score: 2.02), 2 (score: 1.73)\n",
            "\n",
            "Top 10 user recommendations for use ID 73:\n",
            "26 (score: 3.87), 11 (score: 3.43), 23 (score: 3.07), 28 (score: 3.06), 29 (score: 2.78), 12 (score: 2.75), 17 (score: 2.69), 5 (score: 2.38), 9 (score: 2.06), 22 (score: 2.00)\n",
            "\n",
            "Top 10 user recommendations for use ID 33:\n",
            "25 (score: 3.73), 12 (score: 3.35), 10 (score: 3.10), 27 (score: 3.08), 4 (score: 2.75), 24 (score: 2.30), 9 (score: 2.23), 15 (score: 2.17), 23 (score: 2.11), 5 (score: 1.93)\n",
            "\n",
            "Top 10 user recommendations for use ID 83:\n",
            "18 (score: 5.21), 2 (score: 5.05), 28 (score: 3.43), 25 (score: 3.15), 27 (score: 3.07), 13 (score: 2.79), 7 (score: 2.41), 24 (score: 2.33), 26 (score: 2.18), 14 (score: 2.12)\n",
            "\n",
            "Top 10 user recommendations for use ID 34:\n",
            "26 (score: 4.04), 2 (score: 3.89), 18 (score: 3.55), 3 (score: 2.80), 1 (score: 2.75), 20 (score: 2.73), 27 (score: 2.41), 25 (score: 2.40), 22 (score: 2.35), 13 (score: 2.33)\n",
            "\n",
            "Top 10 user recommendations for use ID 44:\n",
            "18 (score: 3.82), 2 (score: 3.58), 24 (score: 3.05), 27 (score: 2.84), 23 (score: 2.49), 25 (score: 2.39), 16 (score: 1.98), 15 (score: 1.93), 5 (score: 1.80), 12 (score: 1.74)\n",
            "\n",
            "Top 10 user recommendations for use ID 94:\n",
            "26 (score: 4.91), 17 (score: 4.58), 23 (score: 4.33), 20 (score: 4.09), 12 (score: 3.78), 19 (score: 3.57), 5 (score: 3.46), 18 (score: 3.30), 16 (score: 2.95), 3 (score: 2.73)\n",
            "\n",
            "Top 10 user recommendations for use ID 54:\n",
            "16 (score: 4.18), 11 (score: 3.65), 26 (score: 3.58), 19 (score: 3.42), 22 (score: 3.41), 17 (score: 2.16), 23 (score: 2.13), 29 (score: 1.56), 21 (score: 1.49), 14 (score: 1.42)\n",
            "\n",
            "Top 10 user recommendations for use ID 64:\n",
            "12 (score: 4.59), 17 (score: 4.22), 23 (score: 3.98), 5 (score: 3.38), 15 (score: 3.10), 9 (score: 2.79), 1 (score: 2.76), 29 (score: 2.66), 25 (score: 2.46), 22 (score: 2.31)\n",
            "\n",
            "Top 10 user recommendations for use ID 4:\n",
            "26 (score: 3.84), 3 (score: 3.05), 27 (score: 2.90), 11 (score: 2.83), 18 (score: 2.74), 2 (score: 2.73), 10 (score: 2.40), 25 (score: 2.31), 20 (score: 2.24), 13 (score: 2.08)\n",
            "\n",
            "Top 10 user recommendations for use ID 84:\n",
            "20 (score: 2.02), 8 (score: 1.67), 7 (score: 1.60), 1 (score: 1.56), 14 (score: 1.46), 3 (score: 1.42), 26 (score: 1.31), 17 (score: 1.25), 9 (score: 1.23), 10 (score: 1.22)\n",
            "\n",
            "Top 10 user recommendations for use ID 24:\n",
            "26 (score: 4.89), 3 (score: 3.23), 28 (score: 2.95), 18 (score: 2.90), 25 (score: 2.67), 13 (score: 2.14), 1 (score: 2.04), 27 (score: 2.03), 20 (score: 1.80), 21 (score: 1.75)\n",
            "\n",
            "Top 10 user recommendations for use ID 14:\n",
            "28 (score: 3.97), 8 (score: 3.61), 21 (score: 2.69), 14 (score: 2.62), 6 (score: 2.58), 9 (score: 2.51), 4 (score: 2.21), 13 (score: 2.16), 17 (score: 1.98), 7 (score: 1.91)\n",
            "\n",
            "Top 10 user recommendations for use ID 74:\n",
            "26 (score: 5.98), 22 (score: 4.95), 28 (score: 4.66), 11 (score: 4.22), 21 (score: 3.76), 23 (score: 3.54), 13 (score: 2.92), 19 (score: 2.82), 6 (score: 2.66), 1 (score: 1.99)\n",
            "\n",
            "Top 10 user recommendations for use ID 85:\n",
            "16 (score: 5.04), 8 (score: 4.64), 14 (score: 4.38), 7 (score: 3.72), 9 (score: 3.42), 24 (score: 3.16), 6 (score: 3.09), 17 (score: 3.08), 21 (score: 3.05), 19 (score: 2.55)\n",
            "\n",
            "Top 10 user recommendations for use ID 65:\n",
            "23 (score: 4.71), 10 (score: 2.38), 15 (score: 2.20), 29 (score: 2.20), 11 (score: 2.16), 9 (score: 2.11), 5 (score: 2.09), 3 (score: 1.98), 17 (score: 1.88), 25 (score: 1.81)\n",
            "\n",
            "Top 10 user recommendations for use ID 5:\n",
            "16 (score: 2.98), 21 (score: 2.85), 1 (score: 2.38), 17 (score: 2.37), 26 (score: 2.02), 15 (score: 1.97), 18 (score: 1.91), 24 (score: 1.80), 0 (score: 1.62), 3 (score: 1.62)\n",
            "\n",
            "Top 10 user recommendations for use ID 15:\n",
            "2 (score: 2.15), 22 (score: 1.84), 12 (score: 1.67), 6 (score: 1.62), 16 (score: 1.62), 4 (score: 1.45), 7 (score: 1.36), 14 (score: 1.30), 9 (score: 1.22), 23 (score: 1.22)\n",
            "\n",
            "Top 10 user recommendations for use ID 35:\n",
            "12 (score: 5.04), 25 (score: 3.75), 17 (score: 3.45), 28 (score: 3.03), 5 (score: 2.65), 23 (score: 2.21), 15 (score: 2.15), 13 (score: 2.12), 9 (score: 1.99), 29 (score: 1.96)\n",
            "\n",
            "Top 10 user recommendations for use ID 55:\n",
            "12 (score: 5.08), 23 (score: 4.95), 17 (score: 4.78), 5 (score: 4.69), 24 (score: 4.61), 9 (score: 4.06), 15 (score: 3.92), 29 (score: 3.72), 25 (score: 3.35), 27 (score: 2.87)\n",
            "\n",
            "Top 10 user recommendations for use ID 45:\n",
            "16 (score: 2.66), 2 (score: 2.35), 18 (score: 2.10), 26 (score: 1.84), 14 (score: 1.82), 24 (score: 1.71), 1 (score: 1.69), 22 (score: 1.67), 6 (score: 1.53), 7 (score: 1.51)\n",
            "\n",
            "Top 10 user recommendations for use ID 25:\n",
            "2 (score: 4.61), 6 (score: 4.56), 4 (score: 4.29), 22 (score: 4.05), 10 (score: 3.11), 7 (score: 3.01), 8 (score: 2.80), 13 (score: 2.63), 14 (score: 2.28), 25 (score: 2.06)\n",
            "\n",
            "Top 10 user recommendations for use ID 95:\n",
            "8 (score: 3.43), 14 (score: 2.92), 11 (score: 2.91), 9 (score: 2.85), 26 (score: 2.50), 17 (score: 2.48), 4 (score: 2.41), 1 (score: 2.31), 29 (score: 2.29), 6 (score: 2.28)\n",
            "\n",
            "Top 10 user recommendations for use ID 75:\n",
            "22 (score: 5.10), 20 (score: 3.96), 19 (score: 3.89), 26 (score: 3.78), 23 (score: 3.67), 11 (score: 3.05), 17 (score: 2.95), 12 (score: 2.92), 16 (score: 2.85), 1 (score: 2.85)\n",
            "\n",
            "Top 10 user recommendations for use ID 76:\n",
            "8 (score: 5.26), 14 (score: 4.74), 9 (score: 4.59), 24 (score: 3.80), 7 (score: 3.40), 16 (score: 2.90), 3 (score: 2.65), 21 (score: 2.64), 5 (score: 2.37), 6 (score: 2.20)\n",
            "\n",
            "Top 10 user recommendations for use ID 26:\n",
            "17 (score: 2.92), 15 (score: 2.91), 12 (score: 2.41), 23 (score: 2.25), 25 (score: 2.23), 1 (score: 2.12), 16 (score: 2.04), 24 (score: 2.01), 9 (score: 1.53), 5 (score: 1.47)\n",
            "\n",
            "Top 10 user recommendations for use ID 6:\n",
            "24 (score: 2.75), 16 (score: 2.44), 27 (score: 2.22), 23 (score: 2.10), 11 (score: 2.04), 22 (score: 1.98), 19 (score: 1.61), 9 (score: 1.59), 5 (score: 1.52), 29 (score: 1.43)\n",
            "\n",
            "Top 10 user recommendations for use ID 16:\n",
            "28 (score: 4.09), 12 (score: 4.04), 17 (score: 3.57), 9 (score: 3.45), 25 (score: 3.05), 23 (score: 2.79), 8 (score: 2.57), 5 (score: 2.44), 29 (score: 2.35), 4 (score: 2.30)\n",
            "\n",
            "Top 10 user recommendations for use ID 86:\n",
            "26 (score: 2.82), 1 (score: 1.74), 17 (score: 1.61), 14 (score: 1.49), 3 (score: 1.41), 11 (score: 1.33), 8 (score: 1.29), 5 (score: 1.24), 16 (score: 1.23), 22 (score: 1.18)\n",
            "\n",
            "Top 10 user recommendations for use ID 96:\n",
            "14 (score: 3.79), 8 (score: 2.99), 16 (score: 2.96), 22 (score: 2.00), 24 (score: 1.92), 11 (score: 1.50), 27 (score: 1.48), 17 (score: 1.29), 29 (score: 1.20), 1 (score: 1.20)\n",
            "\n",
            "Top 10 user recommendations for use ID 56:\n",
            "23 (score: 3.01), 9 (score: 2.97), 17 (score: 2.87), 5 (score: 2.61), 29 (score: 2.52), 12 (score: 2.29), 16 (score: 2.15), 19 (score: 1.84), 11 (score: 1.70), 24 (score: 1.54)\n",
            "\n",
            "Top 10 user recommendations for use ID 66:\n",
            "11 (score: 3.95), 2 (score: 3.35), 18 (score: 3.05), 27 (score: 2.71), 16 (score: 2.18), 23 (score: 1.95), 22 (score: 1.29), 3 (score: 1.26), 26 (score: 1.24), 24 (score: 1.19)\n",
            "\n",
            "Top 10 user recommendations for use ID 46:\n",
            "23 (score: 6.50), 12 (score: 5.38), 17 (score: 5.15), 29 (score: 4.95), 15 (score: 4.86), 5 (score: 4.70), 28 (score: 4.36), 9 (score: 4.03), 25 (score: 2.52), 11 (score: 2.09)\n",
            "\n",
            "Top 10 user recommendations for use ID 36:\n",
            "26 (score: 3.90), 3 (score: 3.08), 17 (score: 2.98), 23 (score: 2.96), 5 (score: 2.73), 1 (score: 2.42), 12 (score: 2.39), 29 (score: 2.16), 11 (score: 2.15), 9 (score: 2.07)\n",
            "\n",
            "Top 10 user recommendations for use ID 27:\n",
            "11 (score: 5.11), 23 (score: 4.31), 10 (score: 3.95), 27 (score: 3.24), 22 (score: 3.01), 2 (score: 2.99), 9 (score: 2.96), 29 (score: 2.88), 4 (score: 2.85), 6 (score: 2.65)\n",
            "\n",
            "Top 10 user recommendations for use ID 47:\n",
            "7 (score: 3.76), 8 (score: 3.65), 20 (score: 3.34), 18 (score: 3.20), 14 (score: 3.12), 16 (score: 3.00), 19 (score: 2.39), 6 (score: 2.33), 9 (score: 2.06), 21 (score: 2.06)\n",
            "\n",
            "Top 10 user recommendations for use ID 57:\n",
            "26 (score: 3.13), 28 (score: 3.11), 2 (score: 2.02), 21 (score: 1.60), 11 (score: 1.51), 13 (score: 1.51), 0 (score: 1.33), 15 (score: 1.18), 25 (score: 1.16), 1 (score: 1.09)\n",
            "\n",
            "Top 10 user recommendations for use ID 37:\n",
            "2 (score: 4.32), 18 (score: 3.18), 6 (score: 2.81), 16 (score: 2.79), 28 (score: 2.28), 7 (score: 2.26), 13 (score: 2.14), 11 (score: 2.02), 14 (score: 2.00), 21 (score: 1.87)\n",
            "\n",
            "Top 10 user recommendations for use ID 17:\n",
            "12 (score: 4.91), 17 (score: 4.84), 23 (score: 4.32), 5 (score: 3.46), 19 (score: 3.17), 9 (score: 3.16), 29 (score: 2.89), 22 (score: 2.75), 16 (score: 2.46), 15 (score: 2.15)\n",
            "\n",
            "Top 10 user recommendations for use ID 7:\n",
            "26 (score: 4.87), 17 (score: 3.93), 3 (score: 3.30), 23 (score: 3.22), 5 (score: 2.97), 12 (score: 2.87), 20 (score: 2.76), 1 (score: 2.74), 9 (score: 2.12), 29 (score: 2.09)\n",
            "\n",
            "Top 10 user recommendations for use ID 87:\n",
            "10 (score: 4.63), 9 (score: 3.91), 6 (score: 3.22), 7 (score: 3.22), 25 (score: 3.17), 4 (score: 2.99), 23 (score: 2.97), 28 (score: 2.62), 8 (score: 2.50), 21 (score: 2.24)\n",
            "\n",
            "Top 10 user recommendations for use ID 97:\n",
            "25 (score: 2.00), 28 (score: 1.61), 12 (score: 1.43), 9 (score: 1.34), 17 (score: 1.22), 3 (score: 1.21), 5 (score: 1.18), 24 (score: 1.12), 13 (score: 1.12), 14 (score: 1.10)\n",
            "\n",
            "Top 10 user recommendations for use ID 77:\n",
            "24 (score: 4.00), 20 (score: 3.87), 3 (score: 3.06), 1 (score: 3.00), 8 (score: 2.36), 14 (score: 2.36), 27 (score: 2.32), 9 (score: 2.06), 10 (score: 2.04), 5 (score: 1.98)\n",
            "\n",
            "Top 10 user recommendations for use ID 67:\n",
            "8 (score: 3.35), 14 (score: 2.82), 7 (score: 2.72), 9 (score: 2.57), 6 (score: 2.28), 4 (score: 2.25), 10 (score: 2.07), 28 (score: 1.97), 13 (score: 1.80), 25 (score: 1.79)\n",
            "\n",
            "Top 10 user recommendations for use ID 78:\n",
            "22 (score: 1.66), 12 (score: 1.15), 14 (score: 1.14), 2 (score: 1.10), 1 (score: 1.08), 26 (score: 1.05), 7 (score: 1.03), 20 (score: 1.02), 8 (score: 1.02), 11 (score: 1.01)\n",
            "\n",
            "Top 10 user recommendations for use ID 28:\n",
            "18 (score: 4.73), 24 (score: 3.94), 20 (score: 3.50), 3 (score: 3.32), 1 (score: 3.06), 25 (score: 2.52), 21 (score: 2.51), 16 (score: 2.43), 7 (score: 2.14), 17 (score: 2.02)\n",
            "\n",
            "Top 10 user recommendations for use ID 48:\n",
            "23 (score: 5.16), 11 (score: 4.71), 10 (score: 3.76), 29 (score: 3.45), 9 (score: 3.41), 3 (score: 2.83), 5 (score: 2.64), 27 (score: 1.79), 15 (score: 1.52), 12 (score: 1.51)\n",
            "\n",
            "Top 10 user recommendations for use ID 88:\n",
            "25 (score: 4.77), 3 (score: 3.87), 27 (score: 3.28), 10 (score: 3.05), 1 (score: 3.01), 15 (score: 2.59), 4 (score: 2.37), 26 (score: 1.89), 28 (score: 1.87), 24 (score: 1.80)\n",
            "\n",
            "Top 10 user recommendations for use ID 8:\n",
            "2 (score: 5.11), 18 (score: 4.00), 27 (score: 3.81), 26 (score: 3.57), 3 (score: 2.98), 1 (score: 2.87), 25 (score: 2.87), 21 (score: 2.48), 15 (score: 2.38), 6 (score: 2.33)\n",
            "\n",
            "Top 10 user recommendations for use ID 38:\n",
            "26 (score: 5.09), 18 (score: 4.93), 11 (score: 3.97), 29 (score: 2.56), 28 (score: 2.21), 27 (score: 2.14), 3 (score: 2.14), 5 (score: 2.07), 20 (score: 1.79), 7 (score: 1.36)\n",
            "\n",
            "Top 10 user recommendations for use ID 98:\n",
            "22 (score: 4.07), 19 (score: 3.71), 11 (score: 3.48), 23 (score: 3.29), 16 (score: 3.21), 26 (score: 3.03), 17 (score: 2.35), 20 (score: 2.31), 12 (score: 2.12), 2 (score: 1.77)\n",
            "\n",
            "Top 10 user recommendations for use ID 58:\n",
            "6 (score: 3.47), 8 (score: 3.30), 16 (score: 3.21), 21 (score: 2.97), 14 (score: 2.84), 7 (score: 2.70), 9 (score: 2.64), 2 (score: 2.21), 4 (score: 2.09), 0 (score: 1.99)\n",
            "\n",
            "Top 10 user recommendations for use ID 68:\n",
            "23 (score: 4.36), 22 (score: 4.26), 26 (score: 4.20), 17 (score: 4.08), 12 (score: 3.97), 1 (score: 3.38), 11 (score: 3.24), 5 (score: 3.13), 29 (score: 2.75), 15 (score: 2.73)\n",
            "\n",
            "Top 10 user recommendations for use ID 18:\n",
            "26 (score: 6.84), 1 (score: 4.38), 3 (score: 4.30), 27 (score: 3.75), 11 (score: 3.72), 22 (score: 3.31), 23 (score: 3.28), 25 (score: 2.82), 17 (score: 2.70), 28 (score: 2.65)\n",
            "\n",
            "Top 10 user recommendations for use ID 19:\n",
            "28 (score: 3.14), 11 (score: 2.96), 27 (score: 2.89), 29 (score: 2.40), 15 (score: 1.85), 25 (score: 1.81), 5 (score: 1.64), 4 (score: 1.61), 26 (score: 1.57), 23 (score: 1.53)\n",
            "\n",
            "Top 10 user recommendations for use ID 9:\n",
            "9 (score: 1.40), 24 (score: 1.35), 23 (score: 1.23), 15 (score: 1.18), 5 (score: 1.10), 29 (score: 1.06), 14 (score: 1.05), 6 (score: 1.04), 8 (score: 1.03), 27 (score: 1.03)\n",
            "\n",
            "Top 10 user recommendations for use ID 59:\n",
            "16 (score: 3.13), 21 (score: 2.84), 26 (score: 2.28), 24 (score: 1.99), 0 (score: 1.80), 3 (score: 1.75), 15 (score: 1.74), 1 (score: 1.50), 18 (score: 1.42), 23 (score: 1.23)\n",
            "\n",
            "Top 10 user recommendations for use ID 39:\n",
            "2 (score: 4.80), 18 (score: 3.19), 22 (score: 3.01), 12 (score: 2.84), 13 (score: 2.66), 7 (score: 2.50), 25 (score: 2.45), 27 (score: 2.37), 28 (score: 2.29), 4 (score: 1.97)\n",
            "\n",
            "Top 10 user recommendations for use ID 49:\n",
            "23 (score: 4.83), 9 (score: 4.44), 28 (score: 3.96), 3 (score: 3.64), 17 (score: 3.51), 29 (score: 3.46), 5 (score: 3.40), 21 (score: 3.37), 10 (score: 3.26), 25 (score: 3.10)\n",
            "\n",
            "Top 10 user recommendations for use ID 69:\n",
            "16 (score: 5.13), 24 (score: 4.99), 27 (score: 4.47), 22 (score: 3.87), 2 (score: 3.25), 14 (score: 3.00), 11 (score: 2.24), 1 (score: 2.05), 19 (score: 2.05), 18 (score: 1.86)\n",
            "\n",
            "Top 10 user recommendations for use ID 29:\n",
            "8 (score: 5.09), 14 (score: 4.75), 6 (score: 4.38), 7 (score: 4.14), 4 (score: 3.90), 16 (score: 3.69), 22 (score: 3.35), 9 (score: 3.00), 2 (score: 2.90), 19 (score: 2.72)\n",
            "\n",
            "Top 10 user recommendations for use ID 79:\n",
            "26 (score: 5.93), 22 (score: 5.06), 11 (score: 4.82), 1 (score: 3.27), 27 (score: 2.81), 3 (score: 2.72), 12 (score: 2.44), 23 (score: 2.31), 13 (score: 1.99), 28 (score: 1.95)\n",
            "\n",
            "Top 10 user recommendations for use ID 99:\n",
            "2 (score: 2.17), 18 (score: 1.92), 11 (score: 1.73), 23 (score: 1.58), 27 (score: 1.48), 26 (score: 1.47), 6 (score: 1.36), 25 (score: 1.34), 3 (score: 1.30), 10 (score: 1.26)\n",
            "\n",
            "Top 10 user recommendations for use ID 89:\n",
            "26 (score: 4.01), 2 (score: 3.98), 18 (score: 3.89), 16 (score: 3.26), 1 (score: 2.11), 21 (score: 2.01), 13 (score: 1.86), 27 (score: 1.71), 0 (score: 1.67), 28 (score: 1.46)\n",
            "\n"
          ]
        }
      ]
    }
  ]
}