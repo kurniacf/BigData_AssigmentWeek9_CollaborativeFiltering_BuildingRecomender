{
  "nbformat": 4,
  "nbformat_minor": 0,
  "metadata": {
    "colab": {
      "provenance": [],
      "toc_visible": true,
      "authorship_tag": "ABX9TyN1DhLP44lM3AsXbbEPwfxg",
      "include_colab_link": true
    },
    "kernelspec": {
      "name": "python3",
      "display_name": "Python 3"
    },
    "language_info": {
      "name": "python"
    }
  },
  "cells": [
    {
      "cell_type": "markdown",
      "metadata": {
        "id": "view-in-github",
        "colab_type": "text"
      },
      "source": [
        "<a href=\"https://colab.research.google.com/github/kurniacf/BigData_AssigmentWeek9_CollaborativeFiltering_BuildingRecomender/blob/master/Collaborative_Filtering_5025201073_Kurnia_Cahya_Febryanto.ipynb\" target=\"_parent\"><img src=\"https://colab.research.google.com/assets/colab-badge.svg\" alt=\"Open In Colab\"/></a>"
      ]
    },
    {
      "cell_type": "markdown",
      "source": [
        "# BIG DATA ASSIGNMENT WEEK 09\n",
        "## Filtering Collaborative\n",
        "- Name: Kurnia Cahya Febryanto\n",
        "- Student ID: 5025201073\n",
        "- Class: Big Data A\n",
        "- Lecturer: Abdul Munif, S.Kom., M.Sc."
      ],
      "metadata": {
        "id": "P6aMQqXyYgvq"
      }
    },
    {
      "cell_type": "markdown",
      "source": [
        "## Install & Initialization"
      ],
      "metadata": {
        "id": "04yPtlr6cZFd"
      }
    },
    {
      "cell_type": "code",
      "source": [
        "!pip install pyspark"
      ],
      "metadata": {
        "colab": {
          "base_uri": "https://localhost:8080/"
        },
        "id": "YpV-1LjXbtxo",
        "outputId": "46e79c5c-9adc-496d-a2a6-a22d5a34b86f"
      },
      "execution_count": 2,
      "outputs": [
        {
          "output_type": "stream",
          "name": "stdout",
          "text": [
            "Looking in indexes: https://pypi.org/simple, https://us-python.pkg.dev/colab-wheels/public/simple/\n",
            "Collecting pyspark\n",
            "  Downloading pyspark-3.3.2.tar.gz (281.4 MB)\n",
            "\u001b[2K     \u001b[90m━━━━━━━━━━━━━━━━━━━━━━━━━━━━━━━━━━━━━━━\u001b[0m \u001b[32m281.4/281.4 MB\u001b[0m \u001b[31m4.9 MB/s\u001b[0m eta \u001b[36m0:00:00\u001b[0m\n",
            "\u001b[?25h  Preparing metadata (setup.py) ... \u001b[?25l\u001b[?25hdone\n",
            "Collecting py4j==0.10.9.5\n",
            "  Downloading py4j-0.10.9.5-py2.py3-none-any.whl (199 kB)\n",
            "\u001b[2K     \u001b[90m━━━━━━━━━━━━━━━━━━━━━━━━━━━━━━━━━━━━━━\u001b[0m \u001b[32m199.7/199.7 KB\u001b[0m \u001b[31m25.9 MB/s\u001b[0m eta \u001b[36m0:00:00\u001b[0m\n",
            "\u001b[?25hBuilding wheels for collected packages: pyspark\n",
            "  Building wheel for pyspark (setup.py) ... \u001b[?25l\u001b[?25hdone\n",
            "  Created wheel for pyspark: filename=pyspark-3.3.2-py2.py3-none-any.whl size=281824028 sha256=128088b49b26b20b326737ed4d4a3c17d270e4989129595f269cda7cb86c550a\n",
            "  Stored in directory: /root/.cache/pip/wheels/6c/e3/9b/0525ce8a69478916513509d43693511463c6468db0de237c86\n",
            "Successfully built pyspark\n",
            "Installing collected packages: py4j, pyspark\n",
            "  Attempting uninstall: py4j\n",
            "    Found existing installation: py4j 0.10.9.7\n",
            "    Uninstalling py4j-0.10.9.7:\n",
            "      Successfully uninstalled py4j-0.10.9.7\n",
            "Successfully installed py4j-0.10.9.5 pyspark-3.3.2\n"
          ]
        }
      ]
    },
    {
      "cell_type": "code",
      "execution_count": 6,
      "metadata": {
        "id": "uyf4Js8QUJRs"
      },
      "outputs": [],
      "source": [
        "from pyspark.ml.evaluation import RegressionEvaluator\n",
        "from pyspark.ml.recommendation import ALS\n",
        "from pyspark.sql import Row, SparkSession"
      ]
    },
    {
      "cell_type": "code",
      "source": [
        "# SparkSession Initialization\n",
        "spark = SparkSession.builder \\\n",
        "    .master(\"local\") \\\n",
        "    .appName(\"MovieLens\") \\\n",
        "    .getOrCreate()"
      ],
      "metadata": {
        "id": "ZOw36xr-cXSg"
      },
      "execution_count": 7,
      "outputs": []
    },
    {
      "cell_type": "code",
      "source": [
        "\n",
        "# Read data from a text file and separate elements of each line\n",
        "lines = spark.read.text(\"./sample_data/sample_movielens_ratings.txt\").rdd\n",
        "parts = lines.map(lambda row: row.value.split(\"::\"))"
      ],
      "metadata": {
        "id": "iRyks7BXcLXg"
      },
      "execution_count": 8,
      "outputs": []
    },
    {
      "cell_type": "code",
      "source": [
        "# Convert data into a DataFrame with userId, movieId, rating, and timestamp columns\n",
        "ratingsRDD = parts.map(lambda p: Row(userId=int(p[0]), movieId=int(p[1]),\n",
        "                                     rating=float(p[2]), timestamp=int(p[3])))\n",
        "\n",
        "# Split the data into training (80%) and testing (20%) sets\n",
        "ratings = spark.createDataFrame(ratingsRDD)\n",
        "(training, test) = ratings.randomSplit([0.8, 0.2])"
      ],
      "metadata": {
        "id": "Irq7eQ-pcpje"
      },
      "execution_count": 9,
      "outputs": []
    },
    {
      "cell_type": "markdown",
      "source": [
        "## Build Recomendation model using ALS"
      ],
      "metadata": {
        "id": "ENUHxo2zc1lp"
      }
    },
    {
      "cell_type": "code",
      "source": [
        "# Initialize the parameters to be tried\n",
        "max_iters = [5, 10, 20]\n",
        "reg_params = [0.1, 0.5, 1.0]\n",
        "\n",
        "# Dictionary to store RMSE results\n",
        "results = {}"
      ],
      "metadata": {
        "id": "-TZlAsuvc2nR"
      },
      "execution_count": 11,
      "outputs": []
    },
    {
      "cell_type": "code",
      "source": [
        "# Loop for every combination of maxIter and regParam\n",
        "for max_iter in max_iters:\n",
        "    for reg_param in reg_params:\n",
        "        # Build the recommendation model using ALS on the training data\n",
        "        # Note we set cold start strategy to 'drop' to ensure we don't get NaN evaluation metrics\n",
        "        als = ALS(maxIter=max_iter, regParam=reg_param, userCol=\"userId\", itemCol=\"movieId\", ratingCol=\"rating\",\n",
        "                  coldStartStrategy=\"drop\")\n",
        "        model = als.fit(training)\n",
        "\n",
        "        # Evaluate the model by computing the RMSE on the test data\n",
        "        predictions = model.transform(test)\n",
        "        evaluator = RegressionEvaluator(metricName=\"rmse\", labelCol=\"rating\",\n",
        "                                        predictionCol=\"prediction\")\n",
        "        rmse = evaluator.evaluate(predictions)\n",
        "\n",
        "        # Save the RMSE result in the dictionary\n",
        "        results[(max_iter, reg_param)] = rmse\n",
        "        print(f\"Root-mean-square error for maxIter={max_iter}, regParam={reg_param} = {rmse}\")"
      ],
      "metadata": {
        "colab": {
          "base_uri": "https://localhost:8080/"
        },
        "id": "fht2Tod2dBUn",
        "outputId": "a74a3cc0-f4f6-4d83-83bf-6e15516ff055"
      },
      "execution_count": 12,
      "outputs": [
        {
          "output_type": "stream",
          "name": "stdout",
          "text": [
            "Root-mean-square error for maxIter=5, regParam=0.1 = 0.9962344961158077\n",
            "Root-mean-square error for maxIter=5, regParam=0.5 = 1.2175132057715328\n",
            "Root-mean-square error for maxIter=5, regParam=1.0 = 1.4992291118613619\n",
            "Root-mean-square error for maxIter=10, regParam=0.1 = 0.9472275980351129\n",
            "Root-mean-square error for maxIter=10, regParam=0.5 = 1.2176039367425477\n",
            "Root-mean-square error for maxIter=10, regParam=1.0 = 1.4992329710998842\n",
            "Root-mean-square error for maxIter=20, regParam=0.1 = 0.940150460366184\n",
            "Root-mean-square error for maxIter=20, regParam=0.5 = 1.2178062084930956\n",
            "Root-mean-square error for maxIter=20, regParam=1.0 = 1.4992329762155188\n"
          ]
        }
      ]
    },
    {
      "cell_type": "code",
      "source": [
        "# Find the hyperparameter combination with the lowest RMSE\n",
        "best_params = min(results, key=results.get)\n",
        "best_rmse = results[best_params]\n",
        "print(f\"\\nBest hyperparameters: maxIter={best_params[0]}, regParam={best_params[1]} with RMSE={best_rmse}\")"
      ],
      "metadata": {
        "colab": {
          "base_uri": "https://localhost:8080/"
        },
        "id": "V6dyevEcdtLb",
        "outputId": "259e4130-8d74-4310-e82a-39d3d34d0833"
      },
      "execution_count": 13,
      "outputs": [
        {
          "output_type": "stream",
          "name": "stdout",
          "text": [
            "\n",
            "Best hyperparameters: maxIter=20, regParam=0.1 with RMSE=0.940150460366184\n"
          ]
        }
      ]
    },
    {
      "cell_type": "markdown",
      "source": [
        "## Generate Movie Recomendation"
      ],
      "metadata": {
        "id": "5ddaY8Xpdx2c"
      }
    },
    {
      "cell_type": "code",
      "source": [
        "# Train the model with the best hyperparameters\n",
        "best_als = ALS(maxIter=best_params[0], regParam=best_params[1], userCol=\"userId\", itemCol=\"movieId\", ratingCol=\"rating\",\n",
        "               coldStartStrategy=\"drop\")\n",
        "best_model = best_als.fit(training)"
      ],
      "metadata": {
        "id": "uPvYb4GQeTBt"
      },
      "execution_count": 15,
      "outputs": []
    },
    {
      "cell_type": "markdown",
      "source": [
        "## Print Result and Show Ouput"
      ],
      "metadata": {
        "id": "2Z-qkZIhiD-s"
      }
    },
    {
      "cell_type": "code",
      "source": [
        "# Generate top 10 movie recommendations for each user\n",
        "userRecs = best_model.recommendForAllUsers(10)\n",
        "userRecs.show()"
      ],
      "metadata": {
        "colab": {
          "base_uri": "https://localhost:8080/"
        },
        "id": "Q3HGd9Tpd3UD",
        "outputId": "dd0b409a-824d-458d-ea3b-431ee7a10061"
      },
      "execution_count": 16,
      "outputs": [
        {
          "output_type": "stream",
          "name": "stdout",
          "text": [
            "+------+--------------------+\n",
            "|userId|     recommendations|\n",
            "+------+--------------------+\n",
            "|    20|[{94, 3.0157435},...|\n",
            "|    10|[{2, 3.135369}, {...|\n",
            "|     0|[{92, 3.0475888},...|\n",
            "|     1|[{68, 3.1546354},...|\n",
            "|    21|[{29, 4.3110056},...|\n",
            "|    11|[{32, 4.7902164},...|\n",
            "|    12|[{46, 4.5175467},...|\n",
            "|    22|[{51, 4.492956}, ...|\n",
            "|     2|[{93, 4.579589}, ...|\n",
            "|    13|[{93, 3.0599294},...|\n",
            "|     3|[{51, 4.1832976},...|\n",
            "|    23|[{46, 4.92337}, {...|\n",
            "|     4|[{29, 3.8232837},...|\n",
            "|    24|[{69, 4.5547748},...|\n",
            "|    14|[{52, 4.3371334},...|\n",
            "|     5|[{46, 4.352494}, ...|\n",
            "|    15|[{90, 3.2859805},...|\n",
            "|    25|[{47, 2.8306553},...|\n",
            "|    26|[{51, 4.763599}, ...|\n",
            "|     6|[{25, 4.1410666},...|\n",
            "+------+--------------------+\n",
            "only showing top 20 rows\n",
            "\n"
          ]
        }
      ]
    },
    {
      "cell_type": "code",
      "source": [
        "# Generate top 10 user recommendations for each movie\n",
        "movieRecs = best_model.recommendForAllItems(10)\n",
        "movieRecs.show()"
      ],
      "metadata": {
        "colab": {
          "base_uri": "https://localhost:8080/"
        },
        "id": "26G0mKPih_zp",
        "outputId": "4e0f2e81-ce77-4b75-ebe5-6966851c4643"
      },
      "execution_count": 18,
      "outputs": [
        {
          "output_type": "stream",
          "name": "stdout",
          "text": [
            "+-------+--------------------+\n",
            "|movieId|     recommendations|\n",
            "+-------+--------------------+\n",
            "|     20|[{17, 3.9395316},...|\n",
            "|     40|[{2, 3.556001}, {...|\n",
            "|     10|[{23, 3.097157}, ...|\n",
            "|     50|[{23, 3.7149057},...|\n",
            "|     80|[{26, 3.3331735},...|\n",
            "|     70|[{21, 3.2691026},...|\n",
            "|     60|[{22, 2.78507}, {...|\n",
            "|     90|[{17, 4.4264464},...|\n",
            "|     30|[{22, 4.267375}, ...|\n",
            "|      0|[{28, 2.3200734},...|\n",
            "|     31|[{12, 2.677197}, ...|\n",
            "|     81|[{28, 4.02462}, {...|\n",
            "|     91|[{12, 2.945968}, ...|\n",
            "|      1|[{25, 2.014217}, ...|\n",
            "|     41|[{8, 3.2916598}, ...|\n",
            "|     61|[{6, 2.1957097}, ...|\n",
            "|     51|[{26, 4.763599}, ...|\n",
            "|     21|[{26, 2.827591}, ...|\n",
            "|     11|[{26, 1.1909164},...|\n",
            "|     71|[{11, 2.646843}, ...|\n",
            "+-------+--------------------+\n",
            "only showing top 20 rows\n",
            "\n"
          ]
        }
      ]
    },
    {
      "cell_type": "code",
      "source": [
        "# Generate top 10 movie recommendations for a specific set of users\n",
        "users = ratings.select(best_als.getUserCol()).distinct().limit(3)\n",
        "userSubsetRecs = best_model.recommendForUserSubset(users, 10)\n",
        "userSubsetRecs.show()"
      ],
      "metadata": {
        "colab": {
          "base_uri": "https://localhost:8080/"
        },
        "id": "BSV5apxxiPRu",
        "outputId": "dd601048-81d7-4480-cbfc-0107c14b65cb"
      },
      "execution_count": 19,
      "outputs": [
        {
          "output_type": "stream",
          "name": "stdout",
          "text": [
            "+------+--------------------+\n",
            "|userId|     recommendations|\n",
            "+------+--------------------+\n",
            "|    26|[{51, 4.763599}, ...|\n",
            "|    19|[{32, 2.9380393},...|\n",
            "|    29|[{46, 4.1446085},...|\n",
            "+------+--------------------+\n",
            "\n"
          ]
        }
      ]
    },
    {
      "cell_type": "code",
      "source": [
        "# Generate top 10 user recommendations for a specific set of movies\n",
        "movies = ratings.select(best_als.getItemCol()).distinct().limit(3)\n",
        "movieSubSetRecs = best_model.recommendForItemSubset(movies, 10)\n",
        "movieSubSetRecs.show()"
      ],
      "metadata": {
        "colab": {
          "base_uri": "https://localhost:8080/"
        },
        "id": "6aRST13giYKc",
        "outputId": "d01fda1f-3265-4693-ccde-f967f0a22f1c"
      },
      "execution_count": 20,
      "outputs": [
        {
          "output_type": "stream",
          "name": "stdout",
          "text": [
            "+-------+--------------------+\n",
            "|movieId|     recommendations|\n",
            "+-------+--------------------+\n",
            "|     65|[{23, 4.3062}, {1...|\n",
            "|     26|[{0, 2.302283}, {...|\n",
            "|     29|[{8, 4.697743}, {...|\n",
            "+-------+--------------------+\n",
            "\n"
          ]
        }
      ]
    },
    {
      "cell_type": "markdown",
      "source": [
        "## Summary\n",
        "\n",
        "The following sections describe the implemented steps:\n",
        "\n",
        "* Data Loading and Preprocessing: </br>\n",
        "We loaded the MovieLens dataset, processed it, and split it into training and test sets.\n",
        "\n",
        "* Hyperparameter Tuning: </br>\n",
        "We tried different combinations of maxIter and regParam values, evaluated the models on the test set, and stored the RMSE results in a dictionary.\n",
        "\n",
        "* Model Selection: </br>\n",
        "We identified the best hyperparameter combination based on the lowest RMSE and displayed the results.\n",
        "\n",
        "* Generating Recommendations: </br>\n",
        "We trained the model using the best hyperparameters and generated recommendations for all users, all movies, a subset of users, and a subset of movies.\n",
        "\n",
        "The output shows the top 10 recommendations for each user, movie, and the specified subsets."
      ],
      "metadata": {
        "id": "62lVjnkcicYu"
      }
    }
  ]
}